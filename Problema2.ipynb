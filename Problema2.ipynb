{
 "cells": [
  {
   "cell_type": "markdown",
   "metadata": {},
   "source": [
    "# Problema2 - REALIZAR SOBRE ARCHIVO .PY  (NO JUPYTER) \n",
    "\n",
    "\n",
    "Lea el archivo 'winemag-data-130k-v2.csv' y realice lo siguiente:\n",
    "\n",
    "- Explore el dataframe según lo visto en clase\n",
    "- Realice al menos  4 renombre de columna y 3 creación de nuevas columnas según criterio. Deberá crear las columnas que crea conveniente. \n",
    "    Ejemplo: Según el país etiquetelos según continente.\n",
    "\n",
    "- Genere 4 reportes distintos(podria agrupando, filtrar, ordenar, etc). Deberá elegir que reportes realizar\n",
    "    - Ejemplo: Por contienente mostrar los vinos mejor puntuados\n",
    "    - Ejemplo2: Promedio de precio de vino y cantidad de reviews obtenidos según pais. Ordenado de mejor a peor.\n",
    "\n",
    "\n",
    "\n",
    "- Exporte los 4 reportes a 4 formatos de archivos diversos, csv, excel, sqllite, mongodb...\n",
    "   \n",
    "   Para guardar datos de datos agrupados, puede revisar esta solución https://stackoverflow.com/questions/25789264/pandas-dataframegroupby-export-to-excel\n",
    "\n",
    "- Envie uno de los reportes generados por correo, mostrar un pantallazo del correo enviado\n",
    "\n",
    "\n",
    "\n",
    "\n",
    "### Datos \n",
    "\n",
    "winemag-data-130k-v2.csv\n",
    "- https://github.com/gdelgador/ProgramacionPython202401/blob/main/Modulo5/src/winemag-data-130k-v2.csv\n",
    "\n",
    "País según continente:\n",
    "- https://gist.githubusercontent.com/kintero/7d1db891401f56256c79/raw/a61f6d0dda82c3f04d2e6e76c3870552ef6cf0c6/paises.csv\n",
    " \n",
    "\n",
    "\n",
    "\n",
    "\n"
   ]
  },
  {
   "cell_type": "code",
   "execution_count": 1,
   "metadata": {},
   "outputs": [
    {
     "name": "stdout",
     "output_type": "stream",
     "text": [
      "   Unnamed: 0   country                                        description  \\\n",
      "0           0     Italy  Aromas include tropical fruit, broom, brimston...   \n",
      "1           1  Portugal  This is ripe and fruity, a wine that is smooth...   \n",
      "2           2        US  Tart and snappy, the flavors of lime flesh and...   \n",
      "3           3        US  Pineapple rind, lemon pith and orange blossom ...   \n",
      "4           4        US  Much like the regular bottling from 2012, this...   \n",
      "\n",
      "                          designation  points  price           province  \\\n",
      "0                        Vulkà Bianco      87    NaN  Sicily & Sardinia   \n",
      "1                            Avidagos      87   15.0              Douro   \n",
      "2                                 NaN      87   14.0             Oregon   \n",
      "3                Reserve Late Harvest      87   13.0           Michigan   \n",
      "4  Vintner's Reserve Wild Child Block      87   65.0             Oregon   \n",
      "\n",
      "              region_1           region_2         taster_name  \\\n",
      "0                 Etna                NaN       Kerin O’Keefe   \n",
      "1                  NaN                NaN          Roger Voss   \n",
      "2    Willamette Valley  Willamette Valley        Paul Gregutt   \n",
      "3  Lake Michigan Shore                NaN  Alexander Peartree   \n",
      "4    Willamette Valley  Willamette Valley        Paul Gregutt   \n",
      "\n",
      "  taster_twitter_handle                                              title  \\\n",
      "0          @kerinokeefe                  Nicosia 2013 Vulkà Bianco  (Etna)   \n",
      "1            @vossroger      Quinta dos Avidagos 2011 Avidagos Red (Douro)   \n",
      "2           @paulgwine       Rainstorm 2013 Pinot Gris (Willamette Valley)   \n",
      "3                   NaN  St. Julian 2013 Reserve Late Harvest Riesling ...   \n",
      "4           @paulgwine   Sweet Cheeks 2012 Vintner's Reserve Wild Child...   \n",
      "\n",
      "          variety               winery  \n",
      "0     White Blend              Nicosia  \n",
      "1  Portuguese Red  Quinta dos Avidagos  \n",
      "2      Pinot Gris            Rainstorm  \n",
      "3        Riesling           St. Julian  \n",
      "4      Pinot Noir         Sweet Cheeks  \n"
     ]
    }
   ],
   "source": [
    "import pandas as pd\n",
    "\n",
    "# Ruta relativa al archivo existente\n",
    "url = \"./data/winemag-data-130k-v2.csv\"\n",
    "\n",
    "# Cargar el CSV en un DataFrame\n",
    "df = pd.read_csv(url)\n",
    "\n",
    "# Mostrar las primeras filas del DataFrame\n",
    "print(df.head())"
   ]
  },
  {
   "cell_type": "code",
   "execution_count": 2,
   "metadata": {},
   "outputs": [],
   "source": [
    "df.rename(columns={\n",
    "    'country': 'País',\n",
    "    'description': 'Descripción',\n",
    "    'designation': 'Designación',\n",
    "    'price': 'Precio'\n",
    "}, inplace=True)"
   ]
  },
  {
   "cell_type": "code",
   "execution_count": 3,
   "metadata": {},
   "outputs": [],
   "source": [
    "# Crear una columna de Continent basada en el país\n",
    "continent_mapping = {\n",
    "    'Italy': 'Europe',\n",
    "    'Portugal': 'Europe',\n",
    "    'US': 'North America'\n",
    "}\n",
    "\n",
    "df['Continente'] = df['País'].map(continent_mapping)\n",
    "\n",
    "# Crear una columna de Valoración Alta si el puntaje es 90 o más\n",
    "df['Valoración Alta'] = df['points'] >= 90\n",
    "\n",
    "# Crear una columna de Precio en Rango Bajo o Alto\n",
    "df['Rango de Precio'] = pd.cut(df['Precio'].fillna(0), bins=[0, 20, 50, 100, float('inf')],\n",
    "                              labels=['Bajo', 'Medio', 'Alto', 'Muy Alto'])\n"
   ]
  },
  {
   "cell_type": "code",
   "execution_count": 4,
   "metadata": {},
   "outputs": [],
   "source": [
    "# Crear una columna de Continent basada en el país\n",
    "continent_mapping = {\n",
    "    'Italy': 'Europe',\n",
    "    'Portugal': 'Europe',\n",
    "    'US': 'North America'\n",
    "}\n",
    "\n",
    "df['Continente'] = df['País'].map(continent_mapping)\n",
    "\n",
    "# Crear una columna de Valoración Alta si el puntaje es 90 o más\n",
    "df['Valoración Alta'] = df['points'] >= 90\n",
    "\n",
    "# Crear una columna de Precio en Rango Bajo o Alto\n",
    "df['Rango de Precio'] = pd.cut(df['Precio'].fillna(0), bins=[0, 20, 50, 100, float('inf')],\n",
    "                              labels=['Bajo', 'Medio', 'Alto', 'Muy Alto'])\n"
   ]
  },
  {
   "cell_type": "code",
   "execution_count": 5,
   "metadata": {},
   "outputs": [],
   "source": [
    "#reportes\n",
    "# 1.Agrupar por Continente y obtener el vino con la mejor puntuación\n",
    "top_wines_by_continent = df.loc[df.groupby('Continente')['points'].idxmax()]\n",
    "\n",
    "# Exportar a CSV\n",
    "top_wines_by_continent.to_csv('/workspaces/PC5/top_wines_by_continent.csv', index=False)\n"
   ]
  },
  {
   "cell_type": "code",
   "execution_count": 6,
   "metadata": {},
   "outputs": [
    {
     "name": "stdout",
     "output_type": "stream",
     "text": [
      "Requirement already satisfied: openpyxl in /usr/local/python/3.10.13/lib/python3.10/site-packages (3.1.5)\n",
      "Requirement already satisfied: et-xmlfile in /usr/local/python/3.10.13/lib/python3.10/site-packages (from openpyxl) (1.1.0)\n",
      "\n",
      "\u001b[1m[\u001b[0m\u001b[34;49mnotice\u001b[0m\u001b[1;39;49m]\u001b[0m\u001b[39;49m A new release of pip is available: \u001b[0m\u001b[31;49m24.1.2\u001b[0m\u001b[39;49m -> \u001b[0m\u001b[32;49m24.2\u001b[0m\n",
      "\u001b[1m[\u001b[0m\u001b[34;49mnotice\u001b[0m\u001b[1;39;49m]\u001b[0m\u001b[39;49m To update, run: \u001b[0m\u001b[32;49mpython3 -m pip install --upgrade pip\u001b[0m\n"
     ]
    }
   ],
   "source": [
    "#reporte\n",
    "# 2.Agrupar por País y calcular el promedio de precio y la cantidad de reseñas\n",
    "!pip install openpyxl\n",
    "price_reviews_by_country = df.groupby('País').agg({\n",
    "    'Precio': 'mean',\n",
    "    'title': 'count'\n",
    "}).rename(columns={'title': 'Cantidad de Reviews'})\n",
    "\n",
    "# Exportar a Excel\n",
    "price_reviews_by_country.to_excel('/workspaces/PC5/price_reviews_by_country.xlsx')\n"
   ]
  },
  {
   "cell_type": "code",
   "execution_count": 7,
   "metadata": {},
   "outputs": [],
   "source": [
    "# 3.Distribución de Puntuaciones por Región\n",
    "# Agrupar por Región y obtener estadísticas de puntuación\n",
    "score_distribution_by_region = df.groupby('province')['points'].describe()\n",
    "\n",
    "# Exportar a SQLite\n",
    "import sqlite3\n",
    "\n",
    "conn = sqlite3.connect('/workspaces/PC5/score_distribution.db')\n",
    "score_distribution_by_region.to_sql('score_distribution', conn, if_exists='replace')\n",
    "conn.close()\n"
   ]
  }
 ],
 "metadata": {
  "kernelspec": {
   "display_name": "Python 3",
   "language": "python",
   "name": "python3"
  },
  "language_info": {
   "codemirror_mode": {
    "name": "ipython",
    "version": 3
   },
   "file_extension": ".py",
   "mimetype": "text/x-python",
   "name": "python",
   "nbconvert_exporter": "python",
   "pygments_lexer": "ipython3",
   "version": "3.10.13"
  }
 },
 "nbformat": 4,
 "nbformat_minor": 2
}
